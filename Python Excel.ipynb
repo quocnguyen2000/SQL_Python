{
 "cells": [
  {
   "cell_type": "markdown",
   "metadata": {},
   "source": [
    "### Xoá các hàng trong file excel mà không cần mở file"
   ]
  },
  {
   "cell_type": "markdown",
   "metadata": {},
   "source": [
    "**Thêm thư viện**\n"
   ]
  },
  {
   "cell_type": "code",
   "execution_count": 4,
   "metadata": {},
   "outputs": [
    {
     "name": "stdout",
     "output_type": "stream",
     "text": [
      "Requirement already satisfied: pandas in c:\\users\\quocn\\appdata\\local\\programs\\python\\python312\\lib\\site-packages (2.2.2)\n",
      "Requirement already satisfied: openpyxl in c:\\users\\quocn\\appdata\\local\\programs\\python\\python312\\lib\\site-packages (3.1.5)\n",
      "Requirement already satisfied: numpy>=1.26.0 in c:\\users\\quocn\\appdata\\local\\programs\\python\\python312\\lib\\site-packages (from pandas) (1.26.4)\n",
      "Requirement already satisfied: python-dateutil>=2.8.2 in c:\\users\\quocn\\appdata\\local\\programs\\python\\python312\\lib\\site-packages (from pandas) (2.9.0.post0)\n",
      "Requirement already satisfied: pytz>=2020.1 in c:\\users\\quocn\\appdata\\local\\programs\\python\\python312\\lib\\site-packages (from pandas) (2024.1)\n",
      "Requirement already satisfied: tzdata>=2022.7 in c:\\users\\quocn\\appdata\\local\\programs\\python\\python312\\lib\\site-packages (from pandas) (2024.1)\n",
      "Requirement already satisfied: et-xmlfile in c:\\users\\quocn\\appdata\\local\\programs\\python\\python312\\lib\\site-packages (from openpyxl) (1.1.0)\n",
      "Requirement already satisfied: six>=1.5 in c:\\users\\quocn\\appdata\\local\\programs\\python\\python312\\lib\\site-packages (from python-dateutil>=2.8.2->pandas) (1.16.0)\n",
      "Note: you may need to restart the kernel to use updated packages.\n"
     ]
    },
    {
     "name": "stderr",
     "output_type": "stream",
     "text": [
      "\n",
      "[notice] A new release of pip is available: 24.0 -> 24.2\n",
      "[notice] To update, run: python.exe -m pip install --upgrade pip\n"
     ]
    }
   ],
   "source": [
    "pip install pandas openpyxl\n"
   ]
  },
  {
   "cell_type": "markdown",
   "metadata": {},
   "source": [
    "**Xoá hàng 1 đến hàng 4 trong 1 hoặc nhiều file**"
   ]
  },
  {
   "cell_type": "code",
   "execution_count": 10,
   "metadata": {},
   "outputs": [
    {
     "name": "stdout",
     "output_type": "stream",
     "text": [
      "Đã xóa hàng 1 đến hàng 4 và ghi lại file Excel: D:\\Google_Drive\\FMCG\\HuuNghiFood\\SQL\\Gmap\\2023-08_Gmap.xlsx\n",
      "Đã xóa hàng 1 đến hàng 4 và ghi lại file Excel: D:\\Google_Drive\\FMCG\\HuuNghiFood\\SQL\\Gmap\\2023-09_Gmap.xlsx\n",
      "Đã xóa hàng 1 đến hàng 4 và ghi lại file Excel: D:\\Google_Drive\\FMCG\\HuuNghiFood\\SQL\\Gmap\\2023-10_Gmap.xlsx\n",
      "Đã xóa hàng 1 đến hàng 4 và ghi lại file Excel: D:\\Google_Drive\\FMCG\\HuuNghiFood\\SQL\\Gmap\\2023-11_Gmap.xlsx\n",
      "Đã xóa hàng 1 đến hàng 4 và ghi lại file Excel: D:\\Google_Drive\\FMCG\\HuuNghiFood\\SQL\\Gmap\\2023-12_Gmap.xlsx\n",
      "Đã xóa hàng 1 đến hàng 4 và ghi lại file Excel: D:\\Google_Drive\\FMCG\\HuuNghiFood\\SQL\\Gmap\\2024-01_Gmap.xlsx\n",
      "Đã xóa hàng 1 đến hàng 4 và ghi lại file Excel: D:\\Google_Drive\\FMCG\\HuuNghiFood\\SQL\\Gmap\\2024-02_Gmap.xlsx\n",
      "Đã xóa hàng 1 đến hàng 4 và ghi lại file Excel: D:\\Google_Drive\\FMCG\\HuuNghiFood\\SQL\\Gmap\\2024-03_Gmap.xlsx\n",
      "Đã xóa hàng 1 đến hàng 4 và ghi lại file Excel: D:\\Google_Drive\\FMCG\\HuuNghiFood\\SQL\\Gmap\\2024-04_Gmap.xlsx\n",
      "Đã xóa hàng 1 đến hàng 4 và ghi lại file Excel: D:\\Google_Drive\\FMCG\\HuuNghiFood\\SQL\\Gmap\\2024-05_Gmap.xlsx\n",
      "Đã xóa hàng 1 đến hàng 4 và ghi lại file Excel: D:\\Google_Drive\\FMCG\\HuuNghiFood\\SQL\\Gmap\\2024-06_Gmap.xlsx\n",
      "Đã xóa hàng 1 đến hàng 4 và ghi lại file Excel: D:\\Google_Drive\\FMCG\\HuuNghiFood\\SQL\\Gmap\\2024-07_Gmap.xlsx\n",
      "Đã xóa hàng 1 đến hàng 4 và ghi lại file Excel: D:\\Google_Drive\\FMCG\\HuuNghiFood\\SQL\\Gmap\\2024-08_Gmap.xlsx\n",
      "Đã xóa hàng 1 đến hàng 4 và ghi lại file Excel: D:\\Google_Drive\\FMCG\\HuuNghiFood\\SQL\\Gmap\\2024-09_Gmap.xlsx\n"
     ]
    }
   ],
   "source": [
    "from openpyxl import load_workbook\n",
    "\n",
    "# Danh sách các đường dẫn đến file Excel cần xử lý\n",
    "file_paths = [\n",
    "    r'D:\\Google_Drive\\FMCG\\HuuNghiFood\\SQL\\Gmap\\2023-08_Gmap.xlsx',\n",
    "    r'D:\\Google_Drive\\FMCG\\HuuNghiFood\\SQL\\Gmap\\2023-09_Gmap.xlsx',\n",
    "    r'D:\\Google_Drive\\FMCG\\HuuNghiFood\\SQL\\Gmap\\2023-10_Gmap.xlsx',\n",
    "    r'D:\\Google_Drive\\FMCG\\HuuNghiFood\\SQL\\Gmap\\2023-11_Gmap.xlsx',\n",
    "    r'D:\\Google_Drive\\FMCG\\HuuNghiFood\\SQL\\Gmap\\2023-12_Gmap.xlsx',\n",
    "    r'D:\\Google_Drive\\FMCG\\HuuNghiFood\\SQL\\Gmap\\2024-01_Gmap.xlsx',\n",
    "    r'D:\\Google_Drive\\FMCG\\HuuNghiFood\\SQL\\Gmap\\2024-02_Gmap.xlsx',\n",
    "    r'D:\\Google_Drive\\FMCG\\HuuNghiFood\\SQL\\Gmap\\2024-03_Gmap.xlsx',\n",
    "    r'D:\\Google_Drive\\FMCG\\HuuNghiFood\\SQL\\Gmap\\2024-04_Gmap.xlsx',\n",
    "    r'D:\\Google_Drive\\FMCG\\HuuNghiFood\\SQL\\Gmap\\2024-05_Gmap.xlsx',\n",
    "    r'D:\\Google_Drive\\FMCG\\HuuNghiFood\\SQL\\Gmap\\2024-06_Gmap.xlsx',\n",
    "    r'D:\\Google_Drive\\FMCG\\HuuNghiFood\\SQL\\Gmap\\2024-07_Gmap.xlsx',\n",
    "    r'D:\\Google_Drive\\FMCG\\HuuNghiFood\\SQL\\Gmap\\2024-08_Gmap.xlsx',\n",
    "    r'D:\\Google_Drive\\FMCG\\HuuNghiFood\\SQL\\Gmap\\2024-09_Gmap.xlsx',\n",
    "]\n",
    "\n",
    "# Lặp qua từng file và xóa hàng từ 1 đến 4\n",
    "for file_path in file_paths:\n",
    "    # Mở file Excel\n",
    "    wb = load_workbook(file_path)\n",
    "\n",
    "    # Chọn sheet cần thao tác (ws.active chọn sheet đầu tiên)\n",
    "    ws = wb.active\n",
    "\n",
    "    # Xóa hàng từ 1 đến 4\n",
    "    ws.delete_rows(1, 4)\n",
    "\n",
    "    # Lưu lại file Excel\n",
    "    wb.save(file_path)\n",
    "\n",
    "    print(f\"Đã xóa hàng 1 đến hàng 4 và ghi lại file Excel: {file_path}\")\n"
   ]
  },
  {
   "cell_type": "markdown",
   "metadata": {},
   "source": [
    "**Cập nhật file excel**"
   ]
  }
 ],
 "metadata": {
  "kernelspec": {
   "display_name": "Python 3",
   "language": "python",
   "name": "python3"
  },
  "language_info": {
   "codemirror_mode": {
    "name": "ipython",
    "version": 3
   },
   "file_extension": ".py",
   "mimetype": "text/x-python",
   "name": "python",
   "nbconvert_exporter": "python",
   "pygments_lexer": "ipython3",
   "version": "3.12.3"
  }
 },
 "nbformat": 4,
 "nbformat_minor": 2
}
