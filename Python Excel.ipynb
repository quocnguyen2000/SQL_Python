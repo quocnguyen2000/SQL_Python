{
 "cells": [
  {
   "cell_type": "markdown",
   "metadata": {},
   "source": [
    "### Xoá các hàng trong file excel mà không cần mở file"
   ]
  },
  {
   "cell_type": "markdown",
   "metadata": {},
   "source": [
    "**Thêm thư viện**\n"
   ]
  },
  {
   "cell_type": "code",
   "execution_count": 4,
   "metadata": {},
   "outputs": [
    {
     "name": "stdout",
     "output_type": "stream",
     "text": [
      "Requirement already satisfied: pandas in c:\\users\\quocn\\appdata\\local\\programs\\python\\python312\\lib\\site-packages (2.2.2)\n",
      "Requirement already satisfied: openpyxl in c:\\users\\quocn\\appdata\\local\\programs\\python\\python312\\lib\\site-packages (3.1.5)\n",
      "Requirement already satisfied: numpy>=1.26.0 in c:\\users\\quocn\\appdata\\local\\programs\\python\\python312\\lib\\site-packages (from pandas) (1.26.4)\n",
      "Requirement already satisfied: python-dateutil>=2.8.2 in c:\\users\\quocn\\appdata\\local\\programs\\python\\python312\\lib\\site-packages (from pandas) (2.9.0.post0)\n",
      "Requirement already satisfied: pytz>=2020.1 in c:\\users\\quocn\\appdata\\local\\programs\\python\\python312\\lib\\site-packages (from pandas) (2024.1)\n",
      "Requirement already satisfied: tzdata>=2022.7 in c:\\users\\quocn\\appdata\\local\\programs\\python\\python312\\lib\\site-packages (from pandas) (2024.1)\n",
      "Requirement already satisfied: et-xmlfile in c:\\users\\quocn\\appdata\\local\\programs\\python\\python312\\lib\\site-packages (from openpyxl) (1.1.0)\n",
      "Requirement already satisfied: six>=1.5 in c:\\users\\quocn\\appdata\\local\\programs\\python\\python312\\lib\\site-packages (from python-dateutil>=2.8.2->pandas) (1.16.0)\n",
      "Note: you may need to restart the kernel to use updated packages.\n"
     ]
    },
    {
     "name": "stderr",
     "output_type": "stream",
     "text": [
      "\n",
      "[notice] A new release of pip is available: 24.0 -> 24.2\n",
      "[notice] To update, run: python.exe -m pip install --upgrade pip\n"
     ]
    }
   ],
   "source": [
    "pip install pandas openpyxl\n"
   ]
  },
  {
   "cell_type": "markdown",
   "metadata": {},
   "source": [
    "**Xoá hàng 1 đến hàng 4 trong 1 hoặc nhiều file**"
   ]
  },
  {
   "cell_type": "code",
   "execution_count": 10,
   "metadata": {},
   "outputs": [
    {
     "name": "stdout",
     "output_type": "stream",
     "text": [
      "Đã xóa hàng 1 đến hàng 4 và ghi lại file Excel: D:\\Google_Drive\\FMCG\\HuuNghiFood\\SQL\\Gmap\\2023-08_Gmap.xlsx\n",
      "Đã xóa hàng 1 đến hàng 4 và ghi lại file Excel: D:\\Google_Drive\\FMCG\\HuuNghiFood\\SQL\\Gmap\\2023-09_Gmap.xlsx\n",
      "Đã xóa hàng 1 đến hàng 4 và ghi lại file Excel: D:\\Google_Drive\\FMCG\\HuuNghiFood\\SQL\\Gmap\\2023-10_Gmap.xlsx\n",
      "Đã xóa hàng 1 đến hàng 4 và ghi lại file Excel: D:\\Google_Drive\\FMCG\\HuuNghiFood\\SQL\\Gmap\\2023-11_Gmap.xlsx\n",
      "Đã xóa hàng 1 đến hàng 4 và ghi lại file Excel: D:\\Google_Drive\\FMCG\\HuuNghiFood\\SQL\\Gmap\\2023-12_Gmap.xlsx\n",
      "Đã xóa hàng 1 đến hàng 4 và ghi lại file Excel: D:\\Google_Drive\\FMCG\\HuuNghiFood\\SQL\\Gmap\\2024-01_Gmap.xlsx\n",
      "Đã xóa hàng 1 đến hàng 4 và ghi lại file Excel: D:\\Google_Drive\\FMCG\\HuuNghiFood\\SQL\\Gmap\\2024-02_Gmap.xlsx\n",
      "Đã xóa hàng 1 đến hàng 4 và ghi lại file Excel: D:\\Google_Drive\\FMCG\\HuuNghiFood\\SQL\\Gmap\\2024-03_Gmap.xlsx\n",
      "Đã xóa hàng 1 đến hàng 4 và ghi lại file Excel: D:\\Google_Drive\\FMCG\\HuuNghiFood\\SQL\\Gmap\\2024-04_Gmap.xlsx\n",
      "Đã xóa hàng 1 đến hàng 4 và ghi lại file Excel: D:\\Google_Drive\\FMCG\\HuuNghiFood\\SQL\\Gmap\\2024-05_Gmap.xlsx\n",
      "Đã xóa hàng 1 đến hàng 4 và ghi lại file Excel: D:\\Google_Drive\\FMCG\\HuuNghiFood\\SQL\\Gmap\\2024-06_Gmap.xlsx\n",
      "Đã xóa hàng 1 đến hàng 4 và ghi lại file Excel: D:\\Google_Drive\\FMCG\\HuuNghiFood\\SQL\\Gmap\\2024-07_Gmap.xlsx\n",
      "Đã xóa hàng 1 đến hàng 4 và ghi lại file Excel: D:\\Google_Drive\\FMCG\\HuuNghiFood\\SQL\\Gmap\\2024-08_Gmap.xlsx\n",
      "Đã xóa hàng 1 đến hàng 4 và ghi lại file Excel: D:\\Google_Drive\\FMCG\\HuuNghiFood\\SQL\\Gmap\\2024-09_Gmap.xlsx\n"
     ]
    }
   ],
   "source": [
    "from openpyxl import load_workbook\n",
    "\n",
    "# Danh sách các đường dẫn đến file Excel cần xử lý\n",
    "file_paths = [\n",
    "    r'D:\\Google_Drive\\FMCG\\HuuNghiFood\\SQL\\Gmap\\2023-08_Gmap.xlsx',\n",
    "    r'D:\\Google_Drive\\FMCG\\HuuNghiFood\\SQL\\Gmap\\2023-09_Gmap.xlsx',\n",
    "    r'D:\\Google_Drive\\FMCG\\HuuNghiFood\\SQL\\Gmap\\2023-10_Gmap.xlsx',\n",
    "    r'D:\\Google_Drive\\FMCG\\HuuNghiFood\\SQL\\Gmap\\2023-11_Gmap.xlsx',\n",
    "    r'D:\\Google_Drive\\FMCG\\HuuNghiFood\\SQL\\Gmap\\2023-12_Gmap.xlsx',\n",
    "    r'D:\\Google_Drive\\FMCG\\HuuNghiFood\\SQL\\Gmap\\2024-01_Gmap.xlsx',\n",
    "    r'D:\\Google_Drive\\FMCG\\HuuNghiFood\\SQL\\Gmap\\2024-02_Gmap.xlsx',\n",
    "    r'D:\\Google_Drive\\FMCG\\HuuNghiFood\\SQL\\Gmap\\2024-03_Gmap.xlsx',\n",
    "    r'D:\\Google_Drive\\FMCG\\HuuNghiFood\\SQL\\Gmap\\2024-04_Gmap.xlsx',\n",
    "    r'D:\\Google_Drive\\FMCG\\HuuNghiFood\\SQL\\Gmap\\2024-05_Gmap.xlsx',\n",
    "    r'D:\\Google_Drive\\FMCG\\HuuNghiFood\\SQL\\Gmap\\2024-06_Gmap.xlsx',\n",
    "    r'D:\\Google_Drive\\FMCG\\HuuNghiFood\\SQL\\Gmap\\2024-07_Gmap.xlsx',\n",
    "    r'D:\\Google_Drive\\FMCG\\HuuNghiFood\\SQL\\Gmap\\2024-08_Gmap.xlsx',\n",
    "    r'D:\\Google_Drive\\FMCG\\HuuNghiFood\\SQL\\Gmap\\2024-09_Gmap.xlsx',\n",
    "]\n",
    "\n",
    "# Lặp qua từng file và xóa hàng từ 1 đến 4\n",
    "for file_path in file_paths:\n",
    "    # Mở file Excel\n",
    "    wb = load_workbook(file_path)\n",
    "\n",
    "    # Chọn sheet cần thao tác (ws.active chọn sheet đầu tiên)\n",
    "    ws = wb.active\n",
    "\n",
    "    # Xóa hàng từ 1 đến 4\n",
    "    ws.delete_rows(1, 4)\n",
    "\n",
    "    # Lưu lại file Excel\n",
    "    wb.save(file_path)\n",
    "\n",
    "    print(f\"Đã xóa hàng 1 đến hàng 4 và ghi lại file Excel: {file_path}\")\n"
   ]
  },
  {
   "cell_type": "markdown",
   "metadata": {},
   "source": [
    "**Cập nhật file excel**"
   ]
  },
  {
   "cell_type": "code",
   "execution_count": 13,
   "metadata": {},
   "outputs": [
    {
     "ename": "KeyError",
     "evalue": "'Số lần ghé thăm từ 5-10 phút'",
     "output_type": "error",
     "traceback": [
      "\u001b[1;31m---------------------------------------------------------------------------\u001b[0m",
      "\u001b[1;31mKeyError\u001b[0m                                  Traceback (most recent call last)",
      "File \u001b[1;32mc:\\Users\\quocn\\AppData\\Local\\Programs\\Python\\Python312\\Lib\\site-packages\\pandas\\core\\indexes\\base.py:3805\u001b[0m, in \u001b[0;36mIndex.get_loc\u001b[1;34m(self, key)\u001b[0m\n\u001b[0;32m   3804\u001b[0m \u001b[38;5;28;01mtry\u001b[39;00m:\n\u001b[1;32m-> 3805\u001b[0m     \u001b[38;5;28;01mreturn\u001b[39;00m \u001b[38;5;28;43mself\u001b[39;49m\u001b[38;5;241;43m.\u001b[39;49m\u001b[43m_engine\u001b[49m\u001b[38;5;241;43m.\u001b[39;49m\u001b[43mget_loc\u001b[49m\u001b[43m(\u001b[49m\u001b[43mcasted_key\u001b[49m\u001b[43m)\u001b[49m\n\u001b[0;32m   3806\u001b[0m \u001b[38;5;28;01mexcept\u001b[39;00m \u001b[38;5;167;01mKeyError\u001b[39;00m \u001b[38;5;28;01mas\u001b[39;00m err:\n",
      "File \u001b[1;32mindex.pyx:167\u001b[0m, in \u001b[0;36mpandas._libs.index.IndexEngine.get_loc\u001b[1;34m()\u001b[0m\n",
      "File \u001b[1;32mindex.pyx:196\u001b[0m, in \u001b[0;36mpandas._libs.index.IndexEngine.get_loc\u001b[1;34m()\u001b[0m\n",
      "File \u001b[1;32mpandas\\\\_libs\\\\hashtable_class_helper.pxi:7081\u001b[0m, in \u001b[0;36mpandas._libs.hashtable.PyObjectHashTable.get_item\u001b[1;34m()\u001b[0m\n",
      "File \u001b[1;32mpandas\\\\_libs\\\\hashtable_class_helper.pxi:7089\u001b[0m, in \u001b[0;36mpandas._libs.hashtable.PyObjectHashTable.get_item\u001b[1;34m()\u001b[0m\n",
      "\u001b[1;31mKeyError\u001b[0m: 'Số lần ghé thăm từ 5-10 phút'",
      "\nThe above exception was the direct cause of the following exception:\n",
      "\u001b[1;31mKeyError\u001b[0m                                  Traceback (most recent call last)",
      "Cell \u001b[1;32mIn[13], line 40\u001b[0m\n\u001b[0;32m     26\u001b[0m \u001b[38;5;28;01mfor\u001b[39;00m index, row \u001b[38;5;129;01min\u001b[39;00m df\u001b[38;5;241m.\u001b[39miterrows():\n\u001b[0;32m     27\u001b[0m     sql \u001b[38;5;241m=\u001b[39m \u001b[38;5;124m'''\u001b[39m\n\u001b[0;32m     28\u001b[0m \u001b[38;5;124m    INSERT INTO Gmap (STT, Vùng, Khu vực, Mã NPP, Tên NPP, Mã GSBH, TÊN GSBH, Mã NVBH, Tên NVBH, Ngày, Thứ, Tổng số KH trong tuyến, Số KH thực ghé, KH trong tuyến không ghé thăm, Số KH ghé thăm trong tuyến, Số KH ghé thăm ngoài tuyến, Số KH ghé thăm từ xa, Số KH trong tuyến phát sinh ĐH, Số KH ngoài tuyến phát sinh ĐH, Tổng thời gian làm việc, Thời gian bắt đầu, Thời gian kết thúc, Số lần ghé thăm dưới 5 phút, Số lần ghé thăm từ 5-10 phút, Số lần ghé thăm từ 10-15 phút, Số lần ghé thăm trên 30 phút, Thời gian TB tại 1 KH)\u001b[39m\n\u001b[0;32m     29\u001b[0m \u001b[38;5;124m    VALUES (?, ?, ?, ?, ?, ?, ?, ?, ?, ?, ?, ?, ?, ?, ?, ?, ?, ?, ?, ?, ?, ?, ?, ?, ?, ?)\u001b[39m\n\u001b[0;32m     30\u001b[0m \u001b[38;5;124m    \u001b[39m\u001b[38;5;124m'''\u001b[39m\n\u001b[0;32m     31\u001b[0m     cursor\u001b[38;5;241m.\u001b[39mexecute(sql, \n\u001b[0;32m     32\u001b[0m         row[\u001b[38;5;124m'\u001b[39m\u001b[38;5;124mSTT\u001b[39m\u001b[38;5;124m'\u001b[39m], row[\u001b[38;5;124m'\u001b[39m\u001b[38;5;124mVùng\u001b[39m\u001b[38;5;124m'\u001b[39m], row[\u001b[38;5;124m'\u001b[39m\u001b[38;5;124mKhu vực\u001b[39m\u001b[38;5;124m'\u001b[39m], row[\u001b[38;5;124m'\u001b[39m\u001b[38;5;124mMã NPP\u001b[39m\u001b[38;5;124m'\u001b[39m], row[\u001b[38;5;124m'\u001b[39m\u001b[38;5;124mTên NPP\u001b[39m\u001b[38;5;124m'\u001b[39m], \n\u001b[0;32m     33\u001b[0m         row[\u001b[38;5;124m'\u001b[39m\u001b[38;5;124mMã GSBH\u001b[39m\u001b[38;5;124m'\u001b[39m], row[\u001b[38;5;124m'\u001b[39m\u001b[38;5;124mTÊN GSBH\u001b[39m\u001b[38;5;124m'\u001b[39m], row[\u001b[38;5;124m'\u001b[39m\u001b[38;5;124mMã NVBH\u001b[39m\u001b[38;5;124m'\u001b[39m], row[\u001b[38;5;124m'\u001b[39m\u001b[38;5;124mTên NVBH\u001b[39m\u001b[38;5;124m'\u001b[39m], \n\u001b[0;32m     34\u001b[0m         row[\u001b[38;5;124m'\u001b[39m\u001b[38;5;124mNgày\u001b[39m\u001b[38;5;124m'\u001b[39m], row[\u001b[38;5;124m'\u001b[39m\u001b[38;5;124mThứ\u001b[39m\u001b[38;5;124m'\u001b[39m], row[\u001b[38;5;124m'\u001b[39m\u001b[38;5;124mTổng số KH trong tuyến\u001b[39m\u001b[38;5;124m'\u001b[39m], \n\u001b[0;32m     35\u001b[0m         row[\u001b[38;5;124m'\u001b[39m\u001b[38;5;124mSố KH thực ghé\u001b[39m\u001b[38;5;124m'\u001b[39m], row[\u001b[38;5;124m'\u001b[39m\u001b[38;5;124mKH trong tuyến không ghé thăm\u001b[39m\u001b[38;5;124m'\u001b[39m], \n\u001b[0;32m     36\u001b[0m         row[\u001b[38;5;124m'\u001b[39m\u001b[38;5;124mSố KH ghé thăm trong tuyến\u001b[39m\u001b[38;5;124m'\u001b[39m], row[\u001b[38;5;124m'\u001b[39m\u001b[38;5;124mSố KH ghé thăm ngoài tuyến\u001b[39m\u001b[38;5;124m'\u001b[39m], \n\u001b[0;32m     37\u001b[0m         row[\u001b[38;5;124m'\u001b[39m\u001b[38;5;124mSố KH ghé thăm từ xa\u001b[39m\u001b[38;5;124m'\u001b[39m], row[\u001b[38;5;124m'\u001b[39m\u001b[38;5;124mSố KH trong tuyến phát sinh ĐH\u001b[39m\u001b[38;5;124m'\u001b[39m], \n\u001b[0;32m     38\u001b[0m         row[\u001b[38;5;124m'\u001b[39m\u001b[38;5;124mSố KH ngoài tuyến phát sinh ĐH\u001b[39m\u001b[38;5;124m'\u001b[39m], row[\u001b[38;5;124m'\u001b[39m\u001b[38;5;124mTổng thời gian làm việc\u001b[39m\u001b[38;5;124m'\u001b[39m], \n\u001b[0;32m     39\u001b[0m         row[\u001b[38;5;124m'\u001b[39m\u001b[38;5;124mThời gian bắt đầu\u001b[39m\u001b[38;5;124m'\u001b[39m], row[\u001b[38;5;124m'\u001b[39m\u001b[38;5;124mThời gian kết thúc\u001b[39m\u001b[38;5;124m'\u001b[39m], \n\u001b[1;32m---> 40\u001b[0m         row[\u001b[38;5;124m'\u001b[39m\u001b[38;5;124mSố lần ghé thăm dưới 5 phút\u001b[39m\u001b[38;5;124m'\u001b[39m], \u001b[43mrow\u001b[49m\u001b[43m[\u001b[49m\u001b[38;5;124;43m'\u001b[39;49m\u001b[38;5;124;43mSố lần ghé thăm từ 5-10 phút\u001b[39;49m\u001b[38;5;124;43m'\u001b[39;49m\u001b[43m]\u001b[49m, \n\u001b[0;32m     41\u001b[0m         row[\u001b[38;5;124m'\u001b[39m\u001b[38;5;124mSố lần ghé thăm từ 10-15 phút\u001b[39m\u001b[38;5;124m'\u001b[39m], row[\u001b[38;5;124m'\u001b[39m\u001b[38;5;124mSố lần ghé thăm trên 30 phút\u001b[39m\u001b[38;5;124m'\u001b[39m], \n\u001b[0;32m     42\u001b[0m         row[\u001b[38;5;124m'\u001b[39m\u001b[38;5;124mThời gian TB tại 1 KH\u001b[39m\u001b[38;5;124m'\u001b[39m]\n\u001b[0;32m     43\u001b[0m     )\n\u001b[0;32m     45\u001b[0m \u001b[38;5;66;03m# Commit thay đổi\u001b[39;00m\n\u001b[0;32m     46\u001b[0m conn\u001b[38;5;241m.\u001b[39mcommit()\n",
      "File \u001b[1;32mc:\\Users\\quocn\\AppData\\Local\\Programs\\Python\\Python312\\Lib\\site-packages\\pandas\\core\\series.py:1121\u001b[0m, in \u001b[0;36mSeries.__getitem__\u001b[1;34m(self, key)\u001b[0m\n\u001b[0;32m   1118\u001b[0m     \u001b[38;5;28;01mreturn\u001b[39;00m \u001b[38;5;28mself\u001b[39m\u001b[38;5;241m.\u001b[39m_values[key]\n\u001b[0;32m   1120\u001b[0m \u001b[38;5;28;01melif\u001b[39;00m key_is_scalar:\n\u001b[1;32m-> 1121\u001b[0m     \u001b[38;5;28;01mreturn\u001b[39;00m \u001b[38;5;28;43mself\u001b[39;49m\u001b[38;5;241;43m.\u001b[39;49m\u001b[43m_get_value\u001b[49m\u001b[43m(\u001b[49m\u001b[43mkey\u001b[49m\u001b[43m)\u001b[49m\n\u001b[0;32m   1123\u001b[0m \u001b[38;5;66;03m# Convert generator to list before going through hashable part\u001b[39;00m\n\u001b[0;32m   1124\u001b[0m \u001b[38;5;66;03m# (We will iterate through the generator there to check for slices)\u001b[39;00m\n\u001b[0;32m   1125\u001b[0m \u001b[38;5;28;01mif\u001b[39;00m is_iterator(key):\n",
      "File \u001b[1;32mc:\\Users\\quocn\\AppData\\Local\\Programs\\Python\\Python312\\Lib\\site-packages\\pandas\\core\\series.py:1237\u001b[0m, in \u001b[0;36mSeries._get_value\u001b[1;34m(self, label, takeable)\u001b[0m\n\u001b[0;32m   1234\u001b[0m     \u001b[38;5;28;01mreturn\u001b[39;00m \u001b[38;5;28mself\u001b[39m\u001b[38;5;241m.\u001b[39m_values[label]\n\u001b[0;32m   1236\u001b[0m \u001b[38;5;66;03m# Similar to Index.get_value, but we do not fall back to positional\u001b[39;00m\n\u001b[1;32m-> 1237\u001b[0m loc \u001b[38;5;241m=\u001b[39m \u001b[38;5;28;43mself\u001b[39;49m\u001b[38;5;241;43m.\u001b[39;49m\u001b[43mindex\u001b[49m\u001b[38;5;241;43m.\u001b[39;49m\u001b[43mget_loc\u001b[49m\u001b[43m(\u001b[49m\u001b[43mlabel\u001b[49m\u001b[43m)\u001b[49m\n\u001b[0;32m   1239\u001b[0m \u001b[38;5;28;01mif\u001b[39;00m is_integer(loc):\n\u001b[0;32m   1240\u001b[0m     \u001b[38;5;28;01mreturn\u001b[39;00m \u001b[38;5;28mself\u001b[39m\u001b[38;5;241m.\u001b[39m_values[loc]\n",
      "File \u001b[1;32mc:\\Users\\quocn\\AppData\\Local\\Programs\\Python\\Python312\\Lib\\site-packages\\pandas\\core\\indexes\\base.py:3812\u001b[0m, in \u001b[0;36mIndex.get_loc\u001b[1;34m(self, key)\u001b[0m\n\u001b[0;32m   3807\u001b[0m     \u001b[38;5;28;01mif\u001b[39;00m \u001b[38;5;28misinstance\u001b[39m(casted_key, \u001b[38;5;28mslice\u001b[39m) \u001b[38;5;129;01mor\u001b[39;00m (\n\u001b[0;32m   3808\u001b[0m         \u001b[38;5;28misinstance\u001b[39m(casted_key, abc\u001b[38;5;241m.\u001b[39mIterable)\n\u001b[0;32m   3809\u001b[0m         \u001b[38;5;129;01mand\u001b[39;00m \u001b[38;5;28many\u001b[39m(\u001b[38;5;28misinstance\u001b[39m(x, \u001b[38;5;28mslice\u001b[39m) \u001b[38;5;28;01mfor\u001b[39;00m x \u001b[38;5;129;01min\u001b[39;00m casted_key)\n\u001b[0;32m   3810\u001b[0m     ):\n\u001b[0;32m   3811\u001b[0m         \u001b[38;5;28;01mraise\u001b[39;00m InvalidIndexError(key)\n\u001b[1;32m-> 3812\u001b[0m     \u001b[38;5;28;01mraise\u001b[39;00m \u001b[38;5;167;01mKeyError\u001b[39;00m(key) \u001b[38;5;28;01mfrom\u001b[39;00m \u001b[38;5;21;01merr\u001b[39;00m\n\u001b[0;32m   3813\u001b[0m \u001b[38;5;28;01mexcept\u001b[39;00m \u001b[38;5;167;01mTypeError\u001b[39;00m:\n\u001b[0;32m   3814\u001b[0m     \u001b[38;5;66;03m# If we have a listlike key, _check_indexing_error will raise\u001b[39;00m\n\u001b[0;32m   3815\u001b[0m     \u001b[38;5;66;03m#  InvalidIndexError. Otherwise we fall through and re-raise\u001b[39;00m\n\u001b[0;32m   3816\u001b[0m     \u001b[38;5;66;03m#  the TypeError.\u001b[39;00m\n\u001b[0;32m   3817\u001b[0m     \u001b[38;5;28mself\u001b[39m\u001b[38;5;241m.\u001b[39m_check_indexing_error(key)\n",
      "\u001b[1;31mKeyError\u001b[0m: 'Số lần ghé thăm từ 5-10 phút'"
     ]
    }
   ],
   "source": [
    "import pandas as pd\n",
    "import pyodbc\n",
    "\n",
    "# Kết nối đến SQL Server\n",
    "server = 'nguyen_quoc'\n",
    "database = 'HNF'\n",
    "username = 'sa'\n",
    "password = 'nguyendinhquoc'\n",
    "connection_string = f'DRIVER={{ODBC Driver 17 for SQL Server}};SERVER={server};DATABASE={database};UID={username};PWD={password}'\n",
    "\n",
    "conn = pyodbc.connect(connection_string)\n",
    "cursor = conn.cursor()\n",
    "\n",
    "# Đường dẫn đến file Excel\n",
    "file_path = r'D:\\Google_Drive\\FMCG\\HuuNghiFood\\SQL\\Gmap\\2024-09_Gmap.xlsx'\n",
    "\n",
    "# Đọc dữ liệu từ file Excel\n",
    "df = pd.read_excel(file_path)\n",
    "\n",
    "# Xóa toàn bộ dữ liệu cũ từ bảng SQL Server (nếu cần)\n",
    "delete_sql = \"DELETE FROM Gmap\"\n",
    "cursor.execute(delete_sql)\n",
    "conn.commit()\n",
    "\n",
    "# Chèn lại dữ liệu từ file Excel\n",
    "for index, row in df.iterrows():\n",
    "    sql = '''\n",
    "    INSERT INTO Gmap (STT, Vùng, Khu vực, Mã NPP, Tên NPP, Mã GSBH, TÊN GSBH, Mã NVBH, Tên NVBH, Ngày, Thứ, Tổng số KH trong tuyến, Số KH thực ghé, KH trong tuyến không ghé thăm, Số KH ghé thăm trong tuyến, Số KH ghé thăm ngoài tuyến, Số KH ghé thăm từ xa, Số KH trong tuyến phát sinh ĐH, Số KH ngoài tuyến phát sinh ĐH, Tổng thời gian làm việc, Thời gian bắt đầu, Thời gian kết thúc, Số lần ghé thăm dưới 5 phút, Số lần ghé thăm từ 5- 10 phút, Số lần ghé thăm từ 10- 15 phút, Số lần ghé thăm trên 30 phút, Thời gian TB tại 1 KH)\n",
    "    VALUES (?, ?, ?, ?, ?, ?, ?, ?, ?, ?, ?, ?, ?, ?, ?, ?, ?, ?, ?, ?, ?, ?, ?, ?, ?, ?)\n",
    "    '''\n",
    "    cursor.execute(sql, \n",
    "        row['STT'], row['Vùng'], row['Khu vực'], row['Mã NPP'], row['Tên NPP'], \n",
    "        row['Mã GSBH'], row['TÊN GSBH'], row['Mã NVBH'], row['Tên NVBH'], \n",
    "        row['Ngày'], row['Thứ'], row['Tổng số KH trong tuyến'], \n",
    "        row['Số KH thực ghé'], row['KH trong tuyến không ghé thăm'], \n",
    "        row['Số KH ghé thăm trong tuyến'], row['Số KH ghé thăm ngoài tuyến'], \n",
    "        row['Số KH ghé thăm từ xa'], row['Số KH trong tuyến phát sinh ĐH'], \n",
    "        row['Số KH ngoài tuyến phát sinh ĐH'], row['Tổng thời gian làm việc'], \n",
    "        row['Thời gian bắt đầu'], row['Thời gian kết thúc'], \n",
    "        row['Số lần ghé thăm dưới 5 phút'], row['Số lần ghé thăm từ 5- 10 phút'], \n",
    "        row['Số lần ghé thăm từ 10- 15 phút'], row['Số lần ghé thăm trên 30 phút'], \n",
    "        row['Thời gian TB tại 1 KH']\n",
    "    )\n",
    "\n",
    "# Commit thay đổi\n",
    "conn.commit()\n",
    "\n",
    "# Đóng kết nối\n",
    "cursor.close()\n",
    "conn.close()\n",
    "\n",
    "print(\"Đã cập nhật dữ liệu thành công.\")\n"
   ]
  }
 ],
 "metadata": {
  "kernelspec": {
   "display_name": "Python 3",
   "language": "python",
   "name": "python3"
  },
  "language_info": {
   "codemirror_mode": {
    "name": "ipython",
    "version": 3
   },
   "file_extension": ".py",
   "mimetype": "text/x-python",
   "name": "python",
   "nbconvert_exporter": "python",
   "pygments_lexer": "ipython3",
   "version": "3.12.3"
  }
 },
 "nbformat": 4,
 "nbformat_minor": 2
}
