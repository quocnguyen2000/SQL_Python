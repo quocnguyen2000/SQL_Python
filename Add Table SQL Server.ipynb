{
 "cells": [
  {
   "cell_type": "markdown",
   "metadata": {},
   "source": [
    "**Thêm bảng vào SQL Server**\n"
   ]
  },
  {
   "cell_type": "code",
   "execution_count": 6,
   "metadata": {},
   "outputs": [
    {
     "name": "stdout",
     "output_type": "stream",
     "text": [
      "Requirement already satisfied: pyodbc in c:\\users\\quocn\\appdata\\local\\programs\\python\\python312\\lib\\site-packages (5.1.0)\n",
      "Requirement already satisfied: pandas in c:\\users\\quocn\\appdata\\local\\programs\\python\\python312\\lib\\site-packages (2.2.2)\n",
      "Requirement already satisfied: openpyxl in c:\\users\\quocn\\appdata\\local\\programs\\python\\python312\\lib\\site-packages (3.1.5)\n",
      "Requirement already satisfied: numpy>=1.26.0 in c:\\users\\quocn\\appdata\\local\\programs\\python\\python312\\lib\\site-packages (from pandas) (1.26.4)\n",
      "Requirement already satisfied: python-dateutil>=2.8.2 in c:\\users\\quocn\\appdata\\local\\programs\\python\\python312\\lib\\site-packages (from pandas) (2.9.0.post0)\n",
      "Requirement already satisfied: pytz>=2020.1 in c:\\users\\quocn\\appdata\\local\\programs\\python\\python312\\lib\\site-packages (from pandas) (2024.1)\n",
      "Requirement already satisfied: tzdata>=2022.7 in c:\\users\\quocn\\appdata\\local\\programs\\python\\python312\\lib\\site-packages (from pandas) (2024.1)\n",
      "Requirement already satisfied: et-xmlfile in c:\\users\\quocn\\appdata\\local\\programs\\python\\python312\\lib\\site-packages (from openpyxl) (1.1.0)\n",
      "Requirement already satisfied: six>=1.5 in c:\\users\\quocn\\appdata\\local\\programs\\python\\python312\\lib\\site-packages (from python-dateutil>=2.8.2->pandas) (1.16.0)\n",
      "Note: you may need to restart the kernel to use updated packages.\n"
     ]
    },
    {
     "name": "stderr",
     "output_type": "stream",
     "text": [
      "\n",
      "[notice] A new release of pip is available: 24.0 -> 24.2\n",
      "[notice] To update, run: python.exe -m pip install --upgrade pip\n"
     ]
    }
   ],
   "source": [
    "pip install pyodbc pandas openpyxl\n"
   ]
  },
  {
   "cell_type": "code",
   "execution_count": 13,
   "metadata": {},
   "outputs": [
    {
     "name": "stdout",
     "output_type": "stream",
     "text": [
      "Index(['STT', 'Vùng', 'Khu vực', 'Mã NPP', 'Tên NPP', 'Mã GSBH', 'TÊN GSBH',\n",
      "       'Mã NVBH', 'Tên NVBH', 'Ngày', 'Thứ', 'Tổng số KH trong tuyến',\n",
      "       'Số KH thực ghé', 'KH trong tuyến không ghé thăm',\n",
      "       'Số KH ghé thăm trong tuyến', 'Số KH ghé thăm ngoài tuyến',\n",
      "       'Số KH ghé thăm từ xa', 'Số KH trong tuyến phát sinh ĐH',\n",
      "       'Số KH ngoài tuyến phát sinh ĐH', 'Tổng thời gian làm việc',\n",
      "       'Thời gian bắt đầu', 'Thời gian kết thúc',\n",
      "       'Số lần ghé thăm dưới 5 phút', 'Số lần ghé thăm từ  5- 10 phút',\n",
      "       'Số lần ghé thăm từ 10- 15 phút', 'Số lần ghé thăm trên 30 phút',\n",
      "       'Thời gian TB tại 1 KH'],\n",
      "      dtype='object')\n"
     ]
    },
    {
     "ename": "KeyError",
     "evalue": "'Khu vực'",
     "output_type": "error",
     "traceback": [
      "\u001b[1;31m---------------------------------------------------------------------------\u001b[0m",
      "\u001b[1;31mKeyError\u001b[0m                                  Traceback (most recent call last)",
      "File \u001b[1;32mc:\\Users\\quocn\\AppData\\Local\\Programs\\Python\\Python312\\Lib\\site-packages\\pandas\\core\\indexes\\base.py:3805\u001b[0m, in \u001b[0;36mIndex.get_loc\u001b[1;34m(self, key)\u001b[0m\n\u001b[0;32m   3804\u001b[0m \u001b[38;5;28;01mtry\u001b[39;00m:\n\u001b[1;32m-> 3805\u001b[0m     \u001b[38;5;28;01mreturn\u001b[39;00m \u001b[38;5;28;43mself\u001b[39;49m\u001b[38;5;241;43m.\u001b[39;49m\u001b[43m_engine\u001b[49m\u001b[38;5;241;43m.\u001b[39;49m\u001b[43mget_loc\u001b[49m\u001b[43m(\u001b[49m\u001b[43mcasted_key\u001b[49m\u001b[43m)\u001b[49m\n\u001b[0;32m   3806\u001b[0m \u001b[38;5;28;01mexcept\u001b[39;00m \u001b[38;5;167;01mKeyError\u001b[39;00m \u001b[38;5;28;01mas\u001b[39;00m err:\n",
      "File \u001b[1;32mindex.pyx:167\u001b[0m, in \u001b[0;36mpandas._libs.index.IndexEngine.get_loc\u001b[1;34m()\u001b[0m\n",
      "File \u001b[1;32mindex.pyx:196\u001b[0m, in \u001b[0;36mpandas._libs.index.IndexEngine.get_loc\u001b[1;34m()\u001b[0m\n",
      "File \u001b[1;32mpandas\\\\_libs\\\\hashtable_class_helper.pxi:7081\u001b[0m, in \u001b[0;36mpandas._libs.hashtable.PyObjectHashTable.get_item\u001b[1;34m()\u001b[0m\n",
      "File \u001b[1;32mpandas\\\\_libs\\\\hashtable_class_helper.pxi:7089\u001b[0m, in \u001b[0;36mpandas._libs.hashtable.PyObjectHashTable.get_item\u001b[1;34m()\u001b[0m\n",
      "\u001b[1;31mKeyError\u001b[0m: 'Khu vực'",
      "\nThe above exception was the direct cause of the following exception:\n",
      "\u001b[1;31mKeyError\u001b[0m                                  Traceback (most recent call last)",
      "Cell \u001b[1;32mIn[13], line 48\u001b[0m\n\u001b[0;32m     45\u001b[0m \u001b[38;5;66;03m# Thêm dữ liệu vào bảng \"Gmap\"\u001b[39;00m\n\u001b[0;32m     46\u001b[0m \u001b[38;5;28;01mfor\u001b[39;00m index, row \u001b[38;5;129;01min\u001b[39;00m df\u001b[38;5;241m.\u001b[39miterrows():\n\u001b[0;32m     47\u001b[0m     cursor\u001b[38;5;241m.\u001b[39mexecute(sql, \n\u001b[1;32m---> 48\u001b[0m         row[\u001b[38;5;124m'\u001b[39m\u001b[38;5;124mSTT\u001b[39m\u001b[38;5;124m'\u001b[39m], row[\u001b[38;5;124m'\u001b[39m\u001b[38;5;124mVùng\u001b[39m\u001b[38;5;124m'\u001b[39m], \u001b[43mrow\u001b[49m\u001b[43m[\u001b[49m\u001b[38;5;124;43m'\u001b[39;49m\u001b[38;5;124;43mKhu vực\u001b[39;49m\u001b[38;5;124;43m'\u001b[39;49m\u001b[43m]\u001b[49m, row[\u001b[38;5;124m'\u001b[39m\u001b[38;5;124mMã NPP\u001b[39m\u001b[38;5;124m'\u001b[39m], row[\u001b[38;5;124m'\u001b[39m\u001b[38;5;124mTên NPP\u001b[39m\u001b[38;5;124m'\u001b[39m], \n\u001b[0;32m     49\u001b[0m         row[\u001b[38;5;124m'\u001b[39m\u001b[38;5;124mMã GSBH\u001b[39m\u001b[38;5;124m'\u001b[39m], row[\u001b[38;5;124m'\u001b[39m\u001b[38;5;124mTÊN GSBH\u001b[39m\u001b[38;5;124m'\u001b[39m], row[\u001b[38;5;124m'\u001b[39m\u001b[38;5;124mMã NVBH\u001b[39m\u001b[38;5;124m'\u001b[39m], row[\u001b[38;5;124m'\u001b[39m\u001b[38;5;124mTên NVBH\u001b[39m\u001b[38;5;124m'\u001b[39m], \n\u001b[0;32m     50\u001b[0m         row[\u001b[38;5;124m'\u001b[39m\u001b[38;5;124mNgày\u001b[39m\u001b[38;5;124m'\u001b[39m], row[\u001b[38;5;124m'\u001b[39m\u001b[38;5;124mThứ\u001b[39m\u001b[38;5;124m'\u001b[39m], row[\u001b[38;5;124m'\u001b[39m\u001b[38;5;124mTổng số KH trong tuyến\u001b[39m\u001b[38;5;124m'\u001b[39m], \n\u001b[0;32m     51\u001b[0m         row[\u001b[38;5;124m'\u001b[39m\u001b[38;5;124mSố KH thực ghé\u001b[39m\u001b[38;5;124m'\u001b[39m], row[\u001b[38;5;124m'\u001b[39m\u001b[38;5;124mKH trong tuyến không ghé thăm\u001b[39m\u001b[38;5;124m'\u001b[39m], \n\u001b[0;32m     52\u001b[0m         row[\u001b[38;5;124m'\u001b[39m\u001b[38;5;124mSố KH ghé thăm trong tuyến\u001b[39m\u001b[38;5;124m'\u001b[39m], row[\u001b[38;5;124m'\u001b[39m\u001b[38;5;124mSố KH ghé thăm ngoài tuyến\u001b[39m\u001b[38;5;124m'\u001b[39m], \n\u001b[0;32m     53\u001b[0m         row[\u001b[38;5;124m'\u001b[39m\u001b[38;5;124mSố KH ghé thăm từ xa\u001b[39m\u001b[38;5;124m'\u001b[39m], row[\u001b[38;5;124m'\u001b[39m\u001b[38;5;124mSố KH trong tuyến phát sinh ĐH\u001b[39m\u001b[38;5;124m'\u001b[39m], \n\u001b[0;32m     54\u001b[0m         row[\u001b[38;5;124m'\u001b[39m\u001b[38;5;124mSố KH ngoài tuyến phát sinh ĐH\u001b[39m\u001b[38;5;124m'\u001b[39m], row[\u001b[38;5;124m'\u001b[39m\u001b[38;5;124mTổng thời gian làm việc\u001b[39m\u001b[38;5;124m'\u001b[39m], \n\u001b[0;32m     55\u001b[0m         row[\u001b[38;5;124m'\u001b[39m\u001b[38;5;124mThời gian bắt đầu\u001b[39m\u001b[38;5;124m'\u001b[39m], row[\u001b[38;5;124m'\u001b[39m\u001b[38;5;124mThời gian kết thúc\u001b[39m\u001b[38;5;124m'\u001b[39m], \n\u001b[0;32m     56\u001b[0m         row[\u001b[38;5;124m'\u001b[39m\u001b[38;5;124mSố lần ghé thăm dưới 5 phút\u001b[39m\u001b[38;5;124m'\u001b[39m], row[\u001b[38;5;124m'\u001b[39m\u001b[38;5;124mSố lần ghé thăm từ 5-10 phút\u001b[39m\u001b[38;5;124m'\u001b[39m], \n\u001b[0;32m     57\u001b[0m         row[\u001b[38;5;124m'\u001b[39m\u001b[38;5;124mSố lần ghé thăm từ 10-15 phút\u001b[39m\u001b[38;5;124m'\u001b[39m], row[\u001b[38;5;124m'\u001b[39m\u001b[38;5;124mSố lần ghé thăm trên 30 phút\u001b[39m\u001b[38;5;124m'\u001b[39m], \n\u001b[0;32m     58\u001b[0m         row[\u001b[38;5;124m'\u001b[39m\u001b[38;5;124mThời gian TB tại 1 KH\u001b[39m\u001b[38;5;124m'\u001b[39m]\n\u001b[0;32m     59\u001b[0m     )\n\u001b[0;32m     61\u001b[0m \u001b[38;5;66;03m# Commit các thay đổi và đóng kết nối\u001b[39;00m\n\u001b[0;32m     62\u001b[0m conn\u001b[38;5;241m.\u001b[39mcommit()\n",
      "File \u001b[1;32mc:\\Users\\quocn\\AppData\\Local\\Programs\\Python\\Python312\\Lib\\site-packages\\pandas\\core\\series.py:1121\u001b[0m, in \u001b[0;36mSeries.__getitem__\u001b[1;34m(self, key)\u001b[0m\n\u001b[0;32m   1118\u001b[0m     \u001b[38;5;28;01mreturn\u001b[39;00m \u001b[38;5;28mself\u001b[39m\u001b[38;5;241m.\u001b[39m_values[key]\n\u001b[0;32m   1120\u001b[0m \u001b[38;5;28;01melif\u001b[39;00m key_is_scalar:\n\u001b[1;32m-> 1121\u001b[0m     \u001b[38;5;28;01mreturn\u001b[39;00m \u001b[38;5;28;43mself\u001b[39;49m\u001b[38;5;241;43m.\u001b[39;49m\u001b[43m_get_value\u001b[49m\u001b[43m(\u001b[49m\u001b[43mkey\u001b[49m\u001b[43m)\u001b[49m\n\u001b[0;32m   1123\u001b[0m \u001b[38;5;66;03m# Convert generator to list before going through hashable part\u001b[39;00m\n\u001b[0;32m   1124\u001b[0m \u001b[38;5;66;03m# (We will iterate through the generator there to check for slices)\u001b[39;00m\n\u001b[0;32m   1125\u001b[0m \u001b[38;5;28;01mif\u001b[39;00m is_iterator(key):\n",
      "File \u001b[1;32mc:\\Users\\quocn\\AppData\\Local\\Programs\\Python\\Python312\\Lib\\site-packages\\pandas\\core\\series.py:1237\u001b[0m, in \u001b[0;36mSeries._get_value\u001b[1;34m(self, label, takeable)\u001b[0m\n\u001b[0;32m   1234\u001b[0m     \u001b[38;5;28;01mreturn\u001b[39;00m \u001b[38;5;28mself\u001b[39m\u001b[38;5;241m.\u001b[39m_values[label]\n\u001b[0;32m   1236\u001b[0m \u001b[38;5;66;03m# Similar to Index.get_value, but we do not fall back to positional\u001b[39;00m\n\u001b[1;32m-> 1237\u001b[0m loc \u001b[38;5;241m=\u001b[39m \u001b[38;5;28;43mself\u001b[39;49m\u001b[38;5;241;43m.\u001b[39;49m\u001b[43mindex\u001b[49m\u001b[38;5;241;43m.\u001b[39;49m\u001b[43mget_loc\u001b[49m\u001b[43m(\u001b[49m\u001b[43mlabel\u001b[49m\u001b[43m)\u001b[49m\n\u001b[0;32m   1239\u001b[0m \u001b[38;5;28;01mif\u001b[39;00m is_integer(loc):\n\u001b[0;32m   1240\u001b[0m     \u001b[38;5;28;01mreturn\u001b[39;00m \u001b[38;5;28mself\u001b[39m\u001b[38;5;241m.\u001b[39m_values[loc]\n",
      "File \u001b[1;32mc:\\Users\\quocn\\AppData\\Local\\Programs\\Python\\Python312\\Lib\\site-packages\\pandas\\core\\indexes\\base.py:3812\u001b[0m, in \u001b[0;36mIndex.get_loc\u001b[1;34m(self, key)\u001b[0m\n\u001b[0;32m   3807\u001b[0m     \u001b[38;5;28;01mif\u001b[39;00m \u001b[38;5;28misinstance\u001b[39m(casted_key, \u001b[38;5;28mslice\u001b[39m) \u001b[38;5;129;01mor\u001b[39;00m (\n\u001b[0;32m   3808\u001b[0m         \u001b[38;5;28misinstance\u001b[39m(casted_key, abc\u001b[38;5;241m.\u001b[39mIterable)\n\u001b[0;32m   3809\u001b[0m         \u001b[38;5;129;01mand\u001b[39;00m \u001b[38;5;28many\u001b[39m(\u001b[38;5;28misinstance\u001b[39m(x, \u001b[38;5;28mslice\u001b[39m) \u001b[38;5;28;01mfor\u001b[39;00m x \u001b[38;5;129;01min\u001b[39;00m casted_key)\n\u001b[0;32m   3810\u001b[0m     ):\n\u001b[0;32m   3811\u001b[0m         \u001b[38;5;28;01mraise\u001b[39;00m InvalidIndexError(key)\n\u001b[1;32m-> 3812\u001b[0m     \u001b[38;5;28;01mraise\u001b[39;00m \u001b[38;5;167;01mKeyError\u001b[39;00m(key) \u001b[38;5;28;01mfrom\u001b[39;00m \u001b[38;5;21;01merr\u001b[39;00m\n\u001b[0;32m   3813\u001b[0m \u001b[38;5;28;01mexcept\u001b[39;00m \u001b[38;5;167;01mTypeError\u001b[39;00m:\n\u001b[0;32m   3814\u001b[0m     \u001b[38;5;66;03m# If we have a listlike key, _check_indexing_error will raise\u001b[39;00m\n\u001b[0;32m   3815\u001b[0m     \u001b[38;5;66;03m#  InvalidIndexError. Otherwise we fall through and re-raise\u001b[39;00m\n\u001b[0;32m   3816\u001b[0m     \u001b[38;5;66;03m#  the TypeError.\u001b[39;00m\n\u001b[0;32m   3817\u001b[0m     \u001b[38;5;28mself\u001b[39m\u001b[38;5;241m.\u001b[39m_check_indexing_error(key)\n",
      "\u001b[1;31mKeyError\u001b[0m: 'Khu vực'"
     ]
    }
   ],
   "source": [
    "import pyodbc\n",
    "import pandas as pd\n",
    "\n",
    "# Thông tin kết nối SQL Server\n",
    "server = 'nguyen_quoc'\n",
    "database = 'HNF'\n",
    "username = 'sa'\n",
    "password = 'nguyendinhquoc'\n",
    "connection_string = f'DRIVER={{ODBC Driver 17 for SQL Server}};SERVER={server};DATABASE={database};UID={username};PWD={password}'\n",
    "\n",
    "# Kết nối đến SQL Server\n",
    "conn = pyodbc.connect(connection_string)\n",
    "cursor = conn.cursor()\n",
    "\n",
    "# Đường dẫn đến file Excel\n",
    "file_path = r'D:\\Google_Drive\\FMCG\\HuuNghiFood\\SQL\\Gmap\\2023-03_Gmap.xlsx'\n",
    "\n",
    "# Đọc dữ liệu từ file Excel vào DataFrame\n",
    "df = pd.read_excel(file_path)\n",
    "\n",
    "# Kiểm tra tên cột\n",
    "print(df.columns)\n",
    "\n",
    "# Đổi tên cột nếu cần\n",
    "df.columns = df.columns.str.strip()  # Xóa khoảng trắng đầu/cuối\n",
    "df.columns = df.columns.str.replace(' ', '_')  # Thay đổi khoảng trắng thành dấu gạch dưới\n",
    "\n",
    "# Tạo câu lệnh SQL để thêm dữ liệu vào bảng \"Gmap\"\n",
    "sql = '''\n",
    "INSERT INTO Gmap (\n",
    "    STT,Vùng,Khu vực, Mã NPP, Tên NPP, Mã GSBH, TÊN GSBH, \n",
    "    Mã NVBH, Tên NVBH, Ngày, Thứ, Tổng số KH trong tuyến, \n",
    "    Số KH thực ghé, KH trong tuyến không ghé thăm, \n",
    "    Số KH ghé thăm trong tuyến, Số KH ghé thăm ngoài tuyến, \n",
    "    Số KH ghé thăm từ xa, Số KH trong tuyến phát sinh ĐH, \n",
    "    Số KH ngoài tuyến phát sinh ĐH, Tổng thời gian làm việc, \n",
    "    Thời gian bắt đầu, Thời gian kết thúc, \n",
    "    Số lần ghé thăm dưới 5 phút, Số lần ghé thăm từ  5- 10 phút, \n",
    "    Số lần ghé thăm từ 10- 15 phút, Số lần ghé thăm trên 30 phút, \n",
    "    Thời gian TB tại 1 KH\n",
    ") \n",
    "VALUES (?, ?, ?, ?, ?, ?, ?, ?, ?, ?, ?, ?, ?, ?, ?, ?, ?, ?, ?, ?, ?, ?, ?, ?, ?)\n",
    "'''\n",
    "\n",
    "# Thêm dữ liệu vào bảng \"Gmap\"\n",
    "for index, row in df.iterrows():\n",
    "    cursor.execute(sql, \n",
    "        row['STT'], row['Vùng'], row['Khu vực'], row['Mã NPP'], row['Tên NPP'], \n",
    "        row['Mã GSBH'], row['TÊN GSBH'], row['Mã NVBH'], row['Tên NVBH'], \n",
    "        row['Ngày'], row['Thứ'], row['Tổng số KH trong tuyến'], \n",
    "        row['Số KH thực ghé'], row['KH trong tuyến không ghé thăm'], \n",
    "        row['Số KH ghé thăm trong tuyến'], row['Số KH ghé thăm ngoài tuyến'], \n",
    "        row['Số KH ghé thăm từ xa'], row['Số KH trong tuyến phát sinh ĐH'], \n",
    "        row['Số KH ngoài tuyến phát sinh ĐH'], row['Tổng thời gian làm việc'], \n",
    "        row['Thời gian bắt đầu'], row['Thời gian kết thúc'], \n",
    "        row['Số lần ghé thăm dưới 5 phút'], row['Số lần ghé thăm từ 5-10 phút'], \n",
    "        row['Số lần ghé thăm từ 10-15 phút'], row['Số lần ghé thăm trên 30 phút'], \n",
    "        row['Thời gian TB tại 1 KH']\n",
    "    )\n",
    "\n",
    "# Commit các thay đổi và đóng kết nối\n",
    "conn.commit()\n",
    "cursor.close()\n",
    "conn.close()\n"
   ]
  }
 ],
 "metadata": {
  "kernelspec": {
   "display_name": "Python 3",
   "language": "python",
   "name": "python3"
  },
  "language_info": {
   "codemirror_mode": {
    "name": "ipython",
    "version": 3
   },
   "file_extension": ".py",
   "mimetype": "text/x-python",
   "name": "python",
   "nbconvert_exporter": "python",
   "pygments_lexer": "ipython3",
   "version": "3.12.3"
  }
 },
 "nbformat": 4,
 "nbformat_minor": 2
}
